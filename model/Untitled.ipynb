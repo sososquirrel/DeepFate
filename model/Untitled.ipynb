{
 "cells": [
  {
   "cell_type": "code",
   "execution_count": 2,
   "id": "483d2782-ade8-4951-9cd7-f508d0e82732",
   "metadata": {
    "tags": []
   },
   "outputs": [
    {
     "name": "stdout",
     "output_type": "stream",
     "text": [
      "Collecting pyarrow\n",
      "  Downloading pyarrow-16.1.0-cp38-cp38-manylinux_2_28_x86_64.whl (40.9 MB)\n",
      "\u001b[2K     \u001b[90m━━━━━━━━━━━━━━━━━━━━━━━━━━━━━━━━━━━━━━━━\u001b[0m \u001b[32m40.9/40.9 MB\u001b[0m \u001b[31m43.7 MB/s\u001b[0m eta \u001b[36m0:00:00\u001b[0m00:01\u001b[0m00:01\u001b[0m\n",
      "\u001b[?25hRequirement already satisfied: numpy>=1.16.6 in /home/b/b381993/miniconda3/envs/pytorch2/lib/python3.8/site-packages (from pyarrow) (1.23.1)\n",
      "Installing collected packages: pyarrow\n",
      "Successfully installed pyarrow-16.1.0\n"
     ]
    }
   ],
   "source": [
    "import sys\n",
    "!{sys.executable} -m pip install pyarrow"
   ]
  },
  {
   "cell_type": "code",
   "execution_count": 3,
   "id": "905aeb92-fed6-4335-a9de-3e5f1e7ed6a2",
   "metadata": {
    "tags": []
   },
   "outputs": [],
   "source": [
    "import pyarrow"
   ]
  },
  {
   "cell_type": "code",
   "execution_count": 4,
   "id": "22713041-68a8-45f9-acb5-ee3619b715c3",
   "metadata": {
    "tags": []
   },
   "outputs": [
    {
     "name": "stdout",
     "output_type": "stream",
     "text": [
      "Collecting fastparquet\n",
      "  Downloading fastparquet-2024.2.0-cp38-cp38-manylinux_2_17_x86_64.manylinux2014_x86_64.whl (1.7 MB)\n",
      "\u001b[2K     \u001b[90m━━━━━━━━━━━━━━━━━━━━━━━━━━━━━━━━━━━━━━━━\u001b[0m \u001b[32m1.7/1.7 MB\u001b[0m \u001b[31m16.2 MB/s\u001b[0m eta \u001b[36m0:00:00\u001b[0m00:01\u001b[0m0:01\u001b[0m\n",
      "\u001b[?25hRequirement already satisfied: numpy>=1.20.3 in /home/b/b381993/miniconda3/envs/pytorch2/lib/python3.8/site-packages (from fastparquet) (1.23.1)\n",
      "Requirement already satisfied: packaging in /home/b/b381993/miniconda3/envs/pytorch2/lib/python3.8/site-packages (from fastparquet) (21.3)\n",
      "Requirement already satisfied: fsspec in /home/b/b381993/miniconda3/envs/pytorch2/lib/python3.8/site-packages (from fastparquet) (2022.8.2)\n",
      "Collecting pandas>=1.5.0\n",
      "  Using cached pandas-2.0.3-cp38-cp38-manylinux_2_17_x86_64.manylinux2014_x86_64.whl (12.4 MB)\n",
      "Collecting cramjam>=2.3\n",
      "  Downloading cramjam-2.8.3-cp38-cp38-manylinux_2_17_x86_64.manylinux2014_x86_64.whl (2.0 MB)\n",
      "\u001b[2K     \u001b[90m━━━━━━━━━━━━━━━━━━━━━━━━━━━━━━━━━━━━━━━━\u001b[0m \u001b[32m2.0/2.0 MB\u001b[0m \u001b[31m73.8 MB/s\u001b[0m eta \u001b[36m0:00:00\u001b[0m\n",
      "\u001b[?25hCollecting tzdata>=2022.1\n",
      "  Downloading tzdata-2024.1-py2.py3-none-any.whl (345 kB)\n",
      "\u001b[2K     \u001b[90m━━━━━━━━━━━━━━━━━━━━━━━━━━━━━━━━━━━━━━\u001b[0m \u001b[32m345.4/345.4 kB\u001b[0m \u001b[31m52.5 MB/s\u001b[0m eta \u001b[36m0:00:00\u001b[0m\n",
      "\u001b[?25hRequirement already satisfied: python-dateutil>=2.8.2 in /home/b/b381993/miniconda3/envs/pytorch2/lib/python3.8/site-packages (from pandas>=1.5.0->fastparquet) (2.8.2)\n",
      "Requirement already satisfied: pytz>=2020.1 in /home/b/b381993/miniconda3/envs/pytorch2/lib/python3.8/site-packages (from pandas>=1.5.0->fastparquet) (2022.2.1)\n",
      "Requirement already satisfied: pyparsing!=3.0.5,>=2.0.2 in /home/b/b381993/miniconda3/envs/pytorch2/lib/python3.8/site-packages (from packaging->fastparquet) (3.0.9)\n",
      "Requirement already satisfied: six>=1.5 in /home/b/b381993/miniconda3/envs/pytorch2/lib/python3.8/site-packages (from python-dateutil>=2.8.2->pandas>=1.5.0->fastparquet) (1.16.0)\n",
      "Installing collected packages: tzdata, cramjam, pandas, fastparquet\n",
      "  Attempting uninstall: pandas\n",
      "    Found existing installation: pandas 1.4.4\n",
      "    Uninstalling pandas-1.4.4:\n",
      "      Successfully uninstalled pandas-1.4.4\n",
      "Successfully installed cramjam-2.8.3 fastparquet-2024.2.0 pandas-2.0.3 tzdata-2024.1\n"
     ]
    }
   ],
   "source": [
    "import sys\n",
    "!{sys.executable} -m pip install fastparquet"
   ]
  },
  {
   "cell_type": "code",
   "execution_count": 5,
   "id": "7a4d773f-65cd-4a1a-840b-974df302c13a",
   "metadata": {
    "tags": []
   },
   "outputs": [],
   "source": [
    "import fastparquet"
   ]
  },
  {
   "cell_type": "code",
   "execution_count": 19,
   "id": "694f673b-5fed-4e68-a903-e28522cba6a0",
   "metadata": {
    "tags": []
   },
   "outputs": [],
   "source": [
    "import numpy as np"
   ]
  },
  {
   "cell_type": "code",
   "execution_count": 25,
   "id": "8e6946d0-8aa2-4b72-b348-4d27ceb0566b",
   "metadata": {
    "tags": []
   },
   "outputs": [],
   "source": [
    "dict_parquet = {'model':['Lasso'], 'ypreds':[[1,2,3,3]]}"
   ]
  },
  {
   "cell_type": "code",
   "execution_count": 26,
   "id": "a8ac5bd5-d34b-4ef7-8054-57604d638277",
   "metadata": {
    "tags": []
   },
   "outputs": [],
   "source": [
    "import pandas as pd"
   ]
  },
  {
   "cell_type": "code",
   "execution_count": 27,
   "id": "c18827e5-627d-49f2-be82-75a42cf46e7e",
   "metadata": {
    "tags": []
   },
   "outputs": [],
   "source": [
    "df_parquet = pd.DataFrame(dict_parquet)"
   ]
  },
  {
   "cell_type": "code",
   "execution_count": 28,
   "id": "ac034ee1-3996-4be8-ac33-6ef5ed90fb34",
   "metadata": {
    "tags": []
   },
   "outputs": [],
   "source": [
    "df_parquet.to_parquet('test_parquet.parquet', engine='fastparquet')"
   ]
  },
  {
   "cell_type": "code",
   "execution_count": 29,
   "id": "f0280924-316d-4005-af36-dd5fc4c1bc40",
   "metadata": {
    "tags": []
   },
   "outputs": [],
   "source": [
    "df_load = pd.read_parquet('test_parquet.parquet')"
   ]
  },
  {
   "cell_type": "code",
   "execution_count": 30,
   "id": "6d82e5c4-0a9f-493a-9516-95ff5de6d49d",
   "metadata": {
    "tags": []
   },
   "outputs": [
    {
     "data": {
      "text/html": [
       "<div>\n",
       "<style scoped>\n",
       "    .dataframe tbody tr th:only-of-type {\n",
       "        vertical-align: middle;\n",
       "    }\n",
       "\n",
       "    .dataframe tbody tr th {\n",
       "        vertical-align: top;\n",
       "    }\n",
       "\n",
       "    .dataframe thead th {\n",
       "        text-align: right;\n",
       "    }\n",
       "</style>\n",
       "<table border=\"1\" class=\"dataframe\">\n",
       "  <thead>\n",
       "    <tr style=\"text-align: right;\">\n",
       "      <th></th>\n",
       "      <th>model</th>\n",
       "      <th>ypreds</th>\n",
       "    </tr>\n",
       "  </thead>\n",
       "  <tbody>\n",
       "    <tr>\n",
       "      <th>0</th>\n",
       "      <td>Lasso</td>\n",
       "      <td>b'[1,2,3,3]'</td>\n",
       "    </tr>\n",
       "  </tbody>\n",
       "</table>\n",
       "</div>"
      ],
      "text/plain": [
       "   model        ypreds\n",
       "0  Lasso  b'[1,2,3,3]'"
      ]
     },
     "execution_count": 30,
     "metadata": {},
     "output_type": "execute_result"
    }
   ],
   "source": [
    "df_load"
   ]
  },
  {
   "cell_type": "code",
   "execution_count": 36,
   "id": "1fdd6a0f-2023-48b4-815a-61ec84a2e2ef",
   "metadata": {
    "tags": []
   },
   "outputs": [],
   "source": [
    "test_list = df_load[df_load['model']=='Lasso']['ypreds'].values[0]"
   ]
  },
  {
   "cell_type": "code",
   "execution_count": 37,
   "id": "a48b5d8e-3ee4-4603-b8bb-05208d364fb3",
   "metadata": {
    "tags": []
   },
   "outputs": [
    {
     "data": {
      "text/plain": [
       "b'[1,2,3,3]'"
      ]
     },
     "execution_count": 37,
     "metadata": {},
     "output_type": "execute_result"
    }
   ],
   "source": [
    "test_list"
   ]
  },
  {
   "cell_type": "code",
   "execution_count": 39,
   "id": "d6890be8-2fed-47a5-922b-1b07e0a733c8",
   "metadata": {
    "tags": []
   },
   "outputs": [],
   "source": [
    "import ast"
   ]
  },
  {
   "cell_type": "code",
   "execution_count": 40,
   "id": "22facc64-b52f-4d49-93b9-5ec6fb0d7f0c",
   "metadata": {
    "tags": []
   },
   "outputs": [],
   "source": [
    "# Convert bytes string to regular string\n",
    "str_list = test_list.decode('utf-8')\n",
    "\n",
    "# Parse the string to extract the list of integers\n",
    "int_list = ast.literal_eval(str_list)\n",
    "\n",
    "# Convert the list of integers to a NumPy array\n",
    "array = np.array(int_list)"
   ]
  },
  {
   "cell_type": "code",
   "execution_count": 41,
   "id": "5037b4c8-af50-4832-bbb6-8d8ac24708d1",
   "metadata": {
    "tags": []
   },
   "outputs": [
    {
     "data": {
      "text/plain": [
       "array([1, 2, 3, 3])"
      ]
     },
     "execution_count": 41,
     "metadata": {},
     "output_type": "execute_result"
    }
   ],
   "source": [
    "array"
   ]
  },
  {
   "cell_type": "code",
   "execution_count": 43,
   "id": "32585fb5-5f43-4ae1-b0e7-de2d395770f5",
   "metadata": {
    "tags": []
   },
   "outputs": [
    {
     "data": {
      "text/html": [
       "<div>\n",
       "<style scoped>\n",
       "    .dataframe tbody tr th:only-of-type {\n",
       "        vertical-align: middle;\n",
       "    }\n",
       "\n",
       "    .dataframe tbody tr th {\n",
       "        vertical-align: top;\n",
       "    }\n",
       "\n",
       "    .dataframe thead th {\n",
       "        text-align: right;\n",
       "    }\n",
       "</style>\n",
       "<table border=\"1\" class=\"dataframe\">\n",
       "  <thead>\n",
       "    <tr style=\"text-align: right;\">\n",
       "      <th></th>\n",
       "      <th>model</th>\n",
       "      <th>preds</th>\n",
       "      <th>truth</th>\n",
       "    </tr>\n",
       "  </thead>\n",
       "  <tbody>\n",
       "    <tr>\n",
       "      <th>0</th>\n",
       "      <td>Lasso_0</td>\n",
       "      <td>[165.14211034363373, 160.47390204508002, 150.6...</td>\n",
       "      <td>[139.64096069335938, 167.9251251220703, 171.83...</td>\n",
       "    </tr>\n",
       "    <tr>\n",
       "      <th>1</th>\n",
       "      <td>Lasso_1</td>\n",
       "      <td>[165.75549357198207, 161.35503334825017, 149.2...</td>\n",
       "      <td>[139.64096069335938, 167.9251251220703, 171.83...</td>\n",
       "    </tr>\n",
       "    <tr>\n",
       "      <th>2</th>\n",
       "      <td>Lasso_2</td>\n",
       "      <td>[174.50150009301618, 162.8528359357527, 151.82...</td>\n",
       "      <td>[139.64096069335938, 167.9251251220703, 171.83...</td>\n",
       "    </tr>\n",
       "    <tr>\n",
       "      <th>3</th>\n",
       "      <td>Lasso_3</td>\n",
       "      <td>[179.69056809733996, 154.06727733640815, 150.9...</td>\n",
       "      <td>[139.64096069335938, 167.9251251220703, 171.83...</td>\n",
       "    </tr>\n",
       "    <tr>\n",
       "      <th>4</th>\n",
       "      <td>Lasso_4</td>\n",
       "      <td>[170.28591673853595, 138.14958765898365, 171.6...</td>\n",
       "      <td>[139.64096069335938, 167.9251251220703, 171.83...</td>\n",
       "    </tr>\n",
       "    <tr>\n",
       "      <th>5</th>\n",
       "      <td>Lasso_5</td>\n",
       "      <td>[158.47368257584063, 133.4695135232437, 182.11...</td>\n",
       "      <td>[139.64096069335938, 167.9251251220703, 171.83...</td>\n",
       "    </tr>\n",
       "    <tr>\n",
       "      <th>6</th>\n",
       "      <td>Lasso_6</td>\n",
       "      <td>[156.35361246386924, 142.34748576002676, 165.6...</td>\n",
       "      <td>[139.64096069335938, 167.9251251220703, 171.83...</td>\n",
       "    </tr>\n",
       "    <tr>\n",
       "      <th>7</th>\n",
       "      <td>Lasso_7</td>\n",
       "      <td>[152.94452367496618, 137.32067125310078, 169.6...</td>\n",
       "      <td>[139.64096069335938, 167.9251251220703, 171.83...</td>\n",
       "    </tr>\n",
       "    <tr>\n",
       "      <th>8</th>\n",
       "      <td>Lasso_8</td>\n",
       "      <td>[147.1281963768878, 133.00023637399218, 180.05...</td>\n",
       "      <td>[139.64096069335938, 167.9251251220703, 171.83...</td>\n",
       "    </tr>\n",
       "    <tr>\n",
       "      <th>9</th>\n",
       "      <td>Lasso_9</td>\n",
       "      <td>[145.79520594275667, 135.50325169766256, 184.2...</td>\n",
       "      <td>[139.64096069335938, 167.9251251220703, 171.83...</td>\n",
       "    </tr>\n",
       "    <tr>\n",
       "      <th>10</th>\n",
       "      <td>RandomForest_0</td>\n",
       "      <td>[139.03386071014404, 174.8193862537202, 126.67...</td>\n",
       "      <td>[139.64096069335938, 167.9251251220703, 171.83...</td>\n",
       "    </tr>\n",
       "    <tr>\n",
       "      <th>11</th>\n",
       "      <td>RandomForest_1</td>\n",
       "      <td>[159.26632759094238, 168.37649620056152, 144.1...</td>\n",
       "      <td>[139.64096069335938, 167.9251251220703, 171.83...</td>\n",
       "    </tr>\n",
       "    <tr>\n",
       "      <th>12</th>\n",
       "      <td>RandomForest_2</td>\n",
       "      <td>[148.78800117492676, 172.41644248962402, 146.4...</td>\n",
       "      <td>[139.64096069335938, 167.9251251220703, 171.83...</td>\n",
       "    </tr>\n",
       "    <tr>\n",
       "      <th>13</th>\n",
       "      <td>RandomForest_3</td>\n",
       "      <td>[160.34843589782716, 152.05319549560548, 152.0...</td>\n",
       "      <td>[139.64096069335938, 167.9251251220703, 171.83...</td>\n",
       "    </tr>\n",
       "    <tr>\n",
       "      <th>14</th>\n",
       "      <td>RandomForest_4</td>\n",
       "      <td>[159.69516868591307, 156.33770942687988, 168.2...</td>\n",
       "      <td>[139.64096069335938, 167.9251251220703, 171.83...</td>\n",
       "    </tr>\n",
       "    <tr>\n",
       "      <th>15</th>\n",
       "      <td>RandomForest_5</td>\n",
       "      <td>[157.2502025604248, 127.05040534973145, 199.66...</td>\n",
       "      <td>[139.64096069335938, 167.9251251220703, 171.83...</td>\n",
       "    </tr>\n",
       "    <tr>\n",
       "      <th>16</th>\n",
       "      <td>RandomForest_6</td>\n",
       "      <td>[154.77052627563478, 134.15826606750488, 176.5...</td>\n",
       "      <td>[139.64096069335938, 167.9251251220703, 171.83...</td>\n",
       "    </tr>\n",
       "    <tr>\n",
       "      <th>17</th>\n",
       "      <td>RandomForest_7</td>\n",
       "      <td>[160.77154273986815, 131.73690963745116, 172.1...</td>\n",
       "      <td>[139.64096069335938, 167.9251251220703, 171.83...</td>\n",
       "    </tr>\n",
       "    <tr>\n",
       "      <th>18</th>\n",
       "      <td>RandomForest_8</td>\n",
       "      <td>[145.29589218139648, 127.62885246276855, 176.5...</td>\n",
       "      <td>[139.64096069335938, 167.9251251220703, 171.83...</td>\n",
       "    </tr>\n",
       "    <tr>\n",
       "      <th>19</th>\n",
       "      <td>RandomForest_9</td>\n",
       "      <td>[143.43432426452637, 130.26545280456543, 175.4...</td>\n",
       "      <td>[139.64096069335938, 167.9251251220703, 171.83...</td>\n",
       "    </tr>\n",
       "    <tr>\n",
       "      <th>20</th>\n",
       "      <td>MLPRegressor_0</td>\n",
       "      <td>[5.735189993828834, 4.89275691034514, 4.826879...</td>\n",
       "      <td>[139.64096069335938, 167.9251251220703, 171.83...</td>\n",
       "    </tr>\n",
       "    <tr>\n",
       "      <th>21</th>\n",
       "      <td>MLPRegressor_1</td>\n",
       "      <td>[13.410668683156024, 12.12666747032815, 7.9751...</td>\n",
       "      <td>[139.64096069335938, 167.9251251220703, 171.83...</td>\n",
       "    </tr>\n",
       "    <tr>\n",
       "      <th>22</th>\n",
       "      <td>MLPRegressor_2</td>\n",
       "      <td>[14.897160808872254, 15.43451968648257, 10.782...</td>\n",
       "      <td>[139.64096069335938, 167.9251251220703, 171.83...</td>\n",
       "    </tr>\n",
       "    <tr>\n",
       "      <th>23</th>\n",
       "      <td>MLPRegressor_3</td>\n",
       "      <td>[10.026133685533356, 11.773306604848951, 13.80...</td>\n",
       "      <td>[139.64096069335938, 167.9251251220703, 171.83...</td>\n",
       "    </tr>\n",
       "    <tr>\n",
       "      <th>24</th>\n",
       "      <td>MLPRegressor_4</td>\n",
       "      <td>[11.273887854357318, 10.831086040524413, 16.00...</td>\n",
       "      <td>[139.64096069335938, 167.9251251220703, 171.83...</td>\n",
       "    </tr>\n",
       "    <tr>\n",
       "      <th>25</th>\n",
       "      <td>MLPRegressor_5</td>\n",
       "      <td>[12.885772345765291, 8.540775550676377, 22.305...</td>\n",
       "      <td>[139.64096069335938, 167.9251251220703, 171.83...</td>\n",
       "    </tr>\n",
       "    <tr>\n",
       "      <th>26</th>\n",
       "      <td>MLPRegressor_6</td>\n",
       "      <td>[14.540525674577196, 12.85221262372242, 25.966...</td>\n",
       "      <td>[139.64096069335938, 167.9251251220703, 171.83...</td>\n",
       "    </tr>\n",
       "    <tr>\n",
       "      <th>27</th>\n",
       "      <td>MLPRegressor_7</td>\n",
       "      <td>[11.31092607234476, 12.793614765926407, 28.884...</td>\n",
       "      <td>[139.64096069335938, 167.9251251220703, 171.83...</td>\n",
       "    </tr>\n",
       "    <tr>\n",
       "      <th>28</th>\n",
       "      <td>MLPRegressor_8</td>\n",
       "      <td>[10.315399269671381, 11.747413968990099, 24.95...</td>\n",
       "      <td>[139.64096069335938, 167.9251251220703, 171.83...</td>\n",
       "    </tr>\n",
       "    <tr>\n",
       "      <th>29</th>\n",
       "      <td>MLPRegressor_9</td>\n",
       "      <td>[8.267808454798086, 10.037426395129557, 23.291...</td>\n",
       "      <td>[139.64096069335938, 167.9251251220703, 171.83...</td>\n",
       "    </tr>\n",
       "  </tbody>\n",
       "</table>\n",
       "</div>"
      ],
      "text/plain": [
       "             model                                              preds  \\\n",
       "0          Lasso_0  [165.14211034363373, 160.47390204508002, 150.6...   \n",
       "1          Lasso_1  [165.75549357198207, 161.35503334825017, 149.2...   \n",
       "2          Lasso_2  [174.50150009301618, 162.8528359357527, 151.82...   \n",
       "3          Lasso_3  [179.69056809733996, 154.06727733640815, 150.9...   \n",
       "4          Lasso_4  [170.28591673853595, 138.14958765898365, 171.6...   \n",
       "5          Lasso_5  [158.47368257584063, 133.4695135232437, 182.11...   \n",
       "6          Lasso_6  [156.35361246386924, 142.34748576002676, 165.6...   \n",
       "7          Lasso_7  [152.94452367496618, 137.32067125310078, 169.6...   \n",
       "8          Lasso_8  [147.1281963768878, 133.00023637399218, 180.05...   \n",
       "9          Lasso_9  [145.79520594275667, 135.50325169766256, 184.2...   \n",
       "10  RandomForest_0  [139.03386071014404, 174.8193862537202, 126.67...   \n",
       "11  RandomForest_1  [159.26632759094238, 168.37649620056152, 144.1...   \n",
       "12  RandomForest_2  [148.78800117492676, 172.41644248962402, 146.4...   \n",
       "13  RandomForest_3  [160.34843589782716, 152.05319549560548, 152.0...   \n",
       "14  RandomForest_4  [159.69516868591307, 156.33770942687988, 168.2...   \n",
       "15  RandomForest_5  [157.2502025604248, 127.05040534973145, 199.66...   \n",
       "16  RandomForest_6  [154.77052627563478, 134.15826606750488, 176.5...   \n",
       "17  RandomForest_7  [160.77154273986815, 131.73690963745116, 172.1...   \n",
       "18  RandomForest_8  [145.29589218139648, 127.62885246276855, 176.5...   \n",
       "19  RandomForest_9  [143.43432426452637, 130.26545280456543, 175.4...   \n",
       "20  MLPRegressor_0  [5.735189993828834, 4.89275691034514, 4.826879...   \n",
       "21  MLPRegressor_1  [13.410668683156024, 12.12666747032815, 7.9751...   \n",
       "22  MLPRegressor_2  [14.897160808872254, 15.43451968648257, 10.782...   \n",
       "23  MLPRegressor_3  [10.026133685533356, 11.773306604848951, 13.80...   \n",
       "24  MLPRegressor_4  [11.273887854357318, 10.831086040524413, 16.00...   \n",
       "25  MLPRegressor_5  [12.885772345765291, 8.540775550676377, 22.305...   \n",
       "26  MLPRegressor_6  [14.540525674577196, 12.85221262372242, 25.966...   \n",
       "27  MLPRegressor_7  [11.31092607234476, 12.793614765926407, 28.884...   \n",
       "28  MLPRegressor_8  [10.315399269671381, 11.747413968990099, 24.95...   \n",
       "29  MLPRegressor_9  [8.267808454798086, 10.037426395129557, 23.291...   \n",
       "\n",
       "                                                truth  \n",
       "0   [139.64096069335938, 167.9251251220703, 171.83...  \n",
       "1   [139.64096069335938, 167.9251251220703, 171.83...  \n",
       "2   [139.64096069335938, 167.9251251220703, 171.83...  \n",
       "3   [139.64096069335938, 167.9251251220703, 171.83...  \n",
       "4   [139.64096069335938, 167.9251251220703, 171.83...  \n",
       "5   [139.64096069335938, 167.9251251220703, 171.83...  \n",
       "6   [139.64096069335938, 167.9251251220703, 171.83...  \n",
       "7   [139.64096069335938, 167.9251251220703, 171.83...  \n",
       "8   [139.64096069335938, 167.9251251220703, 171.83...  \n",
       "9   [139.64096069335938, 167.9251251220703, 171.83...  \n",
       "10  [139.64096069335938, 167.9251251220703, 171.83...  \n",
       "11  [139.64096069335938, 167.9251251220703, 171.83...  \n",
       "12  [139.64096069335938, 167.9251251220703, 171.83...  \n",
       "13  [139.64096069335938, 167.9251251220703, 171.83...  \n",
       "14  [139.64096069335938, 167.9251251220703, 171.83...  \n",
       "15  [139.64096069335938, 167.9251251220703, 171.83...  \n",
       "16  [139.64096069335938, 167.9251251220703, 171.83...  \n",
       "17  [139.64096069335938, 167.9251251220703, 171.83...  \n",
       "18  [139.64096069335938, 167.9251251220703, 171.83...  \n",
       "19  [139.64096069335938, 167.9251251220703, 171.83...  \n",
       "20  [139.64096069335938, 167.9251251220703, 171.83...  \n",
       "21  [139.64096069335938, 167.9251251220703, 171.83...  \n",
       "22  [139.64096069335938, 167.9251251220703, 171.83...  \n",
       "23  [139.64096069335938, 167.9251251220703, 171.83...  \n",
       "24  [139.64096069335938, 167.9251251220703, 171.83...  \n",
       "25  [139.64096069335938, 167.9251251220703, 171.83...  \n",
       "26  [139.64096069335938, 167.9251251220703, 171.83...  \n",
       "27  [139.64096069335938, 167.9251251220703, 171.83...  \n",
       "28  [139.64096069335938, 167.9251251220703, 171.83...  \n",
       "29  [139.64096069335938, 167.9251251220703, 171.83...  "
      ]
     },
     "execution_count": 43,
     "metadata": {},
     "output_type": "execute_result"
    }
   ],
   "source": [
    "pd.read_parquet('/work/bb1153/b381993/data/TEST_monday_mini_change_list2/saved_preds/preds_all_models_all_features.parquet')"
   ]
  },
  {
   "cell_type": "code",
   "execution_count": null,
   "id": "cca99a8d-a1d1-4b89-805a-c266b9a277d3",
   "metadata": {},
   "outputs": [],
   "source": []
  }
 ],
 "metadata": {
  "kernelspec": {
   "display_name": "Python (pytorch2)",
   "language": "python",
   "name": "pytorch2"
  },
  "language_info": {
   "codemirror_mode": {
    "name": "ipython",
    "version": 3
   },
   "file_extension": ".py",
   "mimetype": "text/x-python",
   "name": "python",
   "nbconvert_exporter": "python",
   "pygments_lexer": "ipython3",
   "version": "3.8.13"
  }
 },
 "nbformat": 4,
 "nbformat_minor": 5
}
