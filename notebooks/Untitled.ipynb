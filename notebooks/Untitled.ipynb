{
 "cells": [
  {
   "cell_type": "code",
   "execution_count": 1,
   "id": "2d0ccece-39db-4b6b-9855-e9cbcbea3c45",
   "metadata": {
    "tags": []
   },
   "outputs": [],
   "source": [
    "test_path = '/work/bb1153/b381993/data/FINAL_VERSION_new/test_dataset.csv'\n",
    "train_path = '/work/bb1153/b381993/data/FINAL_VERSION_new/train_dataset.csv'"
   ]
  },
  {
   "cell_type": "code",
   "execution_count": 2,
   "id": "149ffb2a-3ede-443a-af05-94cdd70634a0",
   "metadata": {
    "tags": []
   },
   "outputs": [],
   "source": [
    "import pandas as pd\n",
    "df_train = pd.read_csv(train_path)\n",
    "df_test = pd.read_csv(test_path)"
   ]
  },
  {
   "cell_type": "code",
   "execution_count": 28,
   "id": "7871a303-9ec4-44d4-9324-929c2345e399",
   "metadata": {
    "tags": []
   },
   "outputs": [],
   "source": [
    "from sklearn.linear_model import HuberRegressor, Lasso, LinearRegression\n",
    "from sklearn.neural_network import MLPRegressor\n",
    "from sklearn.svm import SVR\n",
    "from sklearn.preprocessing import RobustScaler"
   ]
  },
  {
   "cell_type": "code",
   "execution_count": 4,
   "id": "0025fc01-fb68-450d-92c9-d7391d490b20",
   "metadata": {
    "tags": []
   },
   "outputs": [],
   "source": [
    "scaler = RobustScaler()"
   ]
  },
  {
   "cell_type": "code",
   "execution_count": 2,
   "id": "9d64a873-3275-4fa8-a138-65e91075a96a",
   "metadata": {
    "tags": []
   },
   "outputs": [
    {
     "data": {
      "text/plain": [
       "array([10, 11, 12, 13, 14])"
      ]
     },
     "execution_count": 2,
     "metadata": {},
     "output_type": "execute_result"
    }
   ],
   "source": [
    "import numpy as np\n",
    "np.arange(10,15)"
   ]
  },
  {
   "cell_type": "code",
   "execution_count": 5,
   "id": "6f59b9da-bef4-4876-837c-ff6aefe2b16b",
   "metadata": {
    "tags": []
   },
   "outputs": [],
   "source": [
    "features = [col for col in df_test.columns if ('time_0' in col or 'time_1' in col or 'time_2' in col)]\n",
    "target = ['y_max_extend']"
   ]
  },
  {
   "cell_type": "code",
   "execution_count": 35,
   "id": "fd568f58-b58c-4ea3-84c0-ad3c3ad9a2e2",
   "metadata": {
    "tags": []
   },
   "outputs": [],
   "source": [
    "X_train = df_train[features]\n",
    "X_train = scaler.fit_transform(X_train)\n",
    "y_train = df_train[target]\n",
    "X_test = scaler.transform(df_test[features])\n",
    "y_test = df_test[target]"
   ]
  },
  {
   "cell_type": "code",
   "execution_count": 36,
   "id": "08bdf666-19d9-4d41-af56-154bb9aba7f9",
   "metadata": {
    "tags": []
   },
   "outputs": [
    {
     "name": "stdout",
     "output_type": "stream",
     "text": [
      "Fitting estimator with 285 features.\n",
      "Fitting estimator with 282 features.\n",
      "Fitting estimator with 279 features.\n",
      "Fitting estimator with 276 features.\n",
      "Fitting estimator with 273 features.\n",
      "Fitting estimator with 270 features.\n",
      "Fitting estimator with 267 features.\n",
      "Fitting estimator with 264 features.\n",
      "Fitting estimator with 261 features.\n",
      "Fitting estimator with 258 features.\n",
      "Fitting estimator with 255 features.\n",
      "Fitting estimator with 252 features.\n",
      "Fitting estimator with 249 features.\n",
      "Fitting estimator with 246 features.\n",
      "Fitting estimator with 243 features.\n",
      "Fitting estimator with 240 features.\n",
      "Fitting estimator with 237 features.\n",
      "Fitting estimator with 234 features.\n",
      "Fitting estimator with 231 features.\n",
      "Fitting estimator with 228 features.\n",
      "Fitting estimator with 225 features.\n",
      "Fitting estimator with 222 features.\n",
      "Fitting estimator with 219 features.\n",
      "Fitting estimator with 216 features.\n",
      "Fitting estimator with 213 features.\n",
      "Fitting estimator with 210 features.\n",
      "Fitting estimator with 207 features.\n",
      "Fitting estimator with 204 features.\n",
      "Fitting estimator with 201 features.\n"
     ]
    }
   ],
   "source": [
    "# Feature selection using RFE\n",
    "from sklearn.ensemble import RandomForestRegressor\n",
    "from sklearn.metrics import mean_squared_error\n",
    "from sklearn.feature_selection import RFE\n",
    "estimator = LinearRegression()\n",
    "selector = RFE(estimator, n_features_to_select=200, step=3, verbose=True)\n",
    "selector = selector.fit(X_train, y_train)"
   ]
  },
  {
   "cell_type": "code",
   "execution_count": 37,
   "id": "404dd479-89d5-4a7e-891e-6edabeb9105e",
   "metadata": {
    "tags": []
   },
   "outputs": [],
   "source": [
    "import numpy as np\n",
    "id_cols = np.where(selector.support_)[0]"
   ]
  },
  {
   "cell_type": "code",
   "execution_count": 38,
   "id": "1584afc2-2698-4b2c-92fc-1ddccbf3a7e3",
   "metadata": {
    "tags": []
   },
   "outputs": [],
   "source": [
    "# Get the selected features\n",
    "X_train_sel = X_train[:,id_cols]\n",
    "X_test_sel = X_test[:,id_cols]"
   ]
  },
  {
   "cell_type": "code",
   "execution_count": 39,
   "id": "61727b33-162a-425f-b2db-a32dc3085641",
   "metadata": {
    "tags": []
   },
   "outputs": [
    {
     "name": "stderr",
     "output_type": "stream",
     "text": [
      "/home/b/b381993/miniconda3/envs/pytorch2/lib/python3.8/site-packages/sklearn/neural_network/_multilayer_perceptron.py:1623: DataConversionWarning: A column-vector y was passed when a 1d array was expected. Please change the shape of y to (n_samples, ), for example using ravel().\n",
      "  y = column_or_1d(y, warn=True)\n"
     ]
    },
    {
     "name": "stdout",
     "output_type": "stream",
     "text": [
      "Iteration 1, loss = 1698.71167860\n",
      "Validation score: 0.160747\n",
      "Iteration 2, loss = 622.20361102\n",
      "Validation score: 0.291343\n",
      "Iteration 3, loss = 556.82801214\n",
      "Validation score: 0.336047\n",
      "Iteration 4, loss = 529.03473733\n",
      "Validation score: 0.358949\n",
      "Iteration 5, loss = 512.34666626\n",
      "Validation score: 0.381692\n",
      "Iteration 6, loss = 501.30036452\n",
      "Validation score: 0.378783\n",
      "Iteration 7, loss = 494.37211000\n",
      "Validation score: 0.393401\n",
      "Iteration 8, loss = 490.03167550\n",
      "Validation score: 0.393200\n",
      "Iteration 9, loss = 485.04870630\n",
      "Validation score: 0.395585\n",
      "Iteration 10, loss = 484.03674507\n",
      "Validation score: 0.399637\n",
      "Iteration 11, loss = 477.68945244\n",
      "Validation score: 0.401477\n",
      "Iteration 12, loss = 475.80699670\n",
      "Validation score: 0.409675\n",
      "Iteration 13, loss = 471.51595456\n",
      "Validation score: 0.401768\n",
      "Iteration 14, loss = 470.62427403\n",
      "Validation score: 0.397581\n",
      "Iteration 15, loss = 467.66433770\n",
      "Validation score: 0.405891\n",
      "Iteration 16, loss = 465.48071788\n",
      "Validation score: 0.406741\n",
      "Iteration 17, loss = 465.09146641\n",
      "Validation score: 0.396718\n",
      "Iteration 18, loss = 461.51092790\n",
      "Validation score: 0.414301\n",
      "Iteration 19, loss = 459.34798750\n",
      "Validation score: 0.412865\n",
      "Iteration 20, loss = 456.97160958\n",
      "Validation score: 0.405893\n",
      "Iteration 21, loss = 455.47037575\n",
      "Validation score: 0.412807\n",
      "Iteration 22, loss = 454.24733577\n",
      "Validation score: 0.393381\n",
      "Iteration 23, loss = 449.91272568\n",
      "Validation score: 0.408095\n",
      "Iteration 24, loss = 447.06242968\n",
      "Validation score: 0.403170\n",
      "Iteration 25, loss = 448.59177900\n",
      "Validation score: 0.416075\n",
      "Iteration 26, loss = 445.50872598\n",
      "Validation score: 0.412683\n",
      "Iteration 27, loss = 443.92243432\n",
      "Validation score: 0.405790\n",
      "Iteration 28, loss = 439.50435442\n",
      "Validation score: 0.411582\n",
      "Iteration 29, loss = 436.73500506\n",
      "Validation score: 0.411361\n",
      "Iteration 30, loss = 437.96758742\n",
      "Validation score: 0.408204\n",
      "Iteration 31, loss = 435.70199814\n",
      "Validation score: 0.409481\n",
      "Iteration 32, loss = 432.97468150\n",
      "Validation score: 0.400749\n",
      "Iteration 33, loss = 429.98225878\n",
      "Validation score: 0.407555\n",
      "Iteration 34, loss = 427.95222372\n",
      "Validation score: 0.410599\n",
      "Iteration 35, loss = 425.50320837\n",
      "Validation score: 0.403912\n",
      "Iteration 36, loss = 424.11429634\n",
      "Validation score: 0.407722\n",
      "Iteration 37, loss = 422.89478427\n",
      "Validation score: 0.394637\n",
      "Iteration 38, loss = 420.49571626\n",
      "Validation score: 0.405971\n",
      "Iteration 39, loss = 417.97098110\n",
      "Validation score: 0.402644\n",
      "Iteration 40, loss = 416.37422094\n",
      "Validation score: 0.401612\n",
      "Iteration 41, loss = 415.45599725\n",
      "Validation score: 0.400492\n",
      "Validation score did not improve more than tol=0.000100 for 15 consecutive epochs. Stopping.\n"
     ]
    },
    {
     "data": {
      "text/html": [
       "<style>#sk-container-id-13 {color: black;background-color: white;}#sk-container-id-13 pre{padding: 0;}#sk-container-id-13 div.sk-toggleable {background-color: white;}#sk-container-id-13 label.sk-toggleable__label {cursor: pointer;display: block;width: 100%;margin-bottom: 0;padding: 0.3em;box-sizing: border-box;text-align: center;}#sk-container-id-13 label.sk-toggleable__label-arrow:before {content: \"▸\";float: left;margin-right: 0.25em;color: #696969;}#sk-container-id-13 label.sk-toggleable__label-arrow:hover:before {color: black;}#sk-container-id-13 div.sk-estimator:hover label.sk-toggleable__label-arrow:before {color: black;}#sk-container-id-13 div.sk-toggleable__content {max-height: 0;max-width: 0;overflow: hidden;text-align: left;background-color: #f0f8ff;}#sk-container-id-13 div.sk-toggleable__content pre {margin: 0.2em;color: black;border-radius: 0.25em;background-color: #f0f8ff;}#sk-container-id-13 input.sk-toggleable__control:checked~div.sk-toggleable__content {max-height: 200px;max-width: 100%;overflow: auto;}#sk-container-id-13 input.sk-toggleable__control:checked~label.sk-toggleable__label-arrow:before {content: \"▾\";}#sk-container-id-13 div.sk-estimator input.sk-toggleable__control:checked~label.sk-toggleable__label {background-color: #d4ebff;}#sk-container-id-13 div.sk-label input.sk-toggleable__control:checked~label.sk-toggleable__label {background-color: #d4ebff;}#sk-container-id-13 input.sk-hidden--visually {border: 0;clip: rect(1px 1px 1px 1px);clip: rect(1px, 1px, 1px, 1px);height: 1px;margin: -1px;overflow: hidden;padding: 0;position: absolute;width: 1px;}#sk-container-id-13 div.sk-estimator {font-family: monospace;background-color: #f0f8ff;border: 1px dotted black;border-radius: 0.25em;box-sizing: border-box;margin-bottom: 0.5em;}#sk-container-id-13 div.sk-estimator:hover {background-color: #d4ebff;}#sk-container-id-13 div.sk-parallel-item::after {content: \"\";width: 100%;border-bottom: 1px solid gray;flex-grow: 1;}#sk-container-id-13 div.sk-label:hover label.sk-toggleable__label {background-color: #d4ebff;}#sk-container-id-13 div.sk-serial::before {content: \"\";position: absolute;border-left: 1px solid gray;box-sizing: border-box;top: 0;bottom: 0;left: 50%;z-index: 0;}#sk-container-id-13 div.sk-serial {display: flex;flex-direction: column;align-items: center;background-color: white;padding-right: 0.2em;padding-left: 0.2em;position: relative;}#sk-container-id-13 div.sk-item {position: relative;z-index: 1;}#sk-container-id-13 div.sk-parallel {display: flex;align-items: stretch;justify-content: center;background-color: white;position: relative;}#sk-container-id-13 div.sk-item::before, #sk-container-id-13 div.sk-parallel-item::before {content: \"\";position: absolute;border-left: 1px solid gray;box-sizing: border-box;top: 0;bottom: 0;left: 50%;z-index: -1;}#sk-container-id-13 div.sk-parallel-item {display: flex;flex-direction: column;z-index: 1;position: relative;background-color: white;}#sk-container-id-13 div.sk-parallel-item:first-child::after {align-self: flex-end;width: 50%;}#sk-container-id-13 div.sk-parallel-item:last-child::after {align-self: flex-start;width: 50%;}#sk-container-id-13 div.sk-parallel-item:only-child::after {width: 0;}#sk-container-id-13 div.sk-dashed-wrapped {border: 1px dashed gray;margin: 0 0.4em 0.5em 0.4em;box-sizing: border-box;padding-bottom: 0.4em;background-color: white;}#sk-container-id-13 div.sk-label label {font-family: monospace;font-weight: bold;display: inline-block;line-height: 1.2em;}#sk-container-id-13 div.sk-label-container {text-align: center;}#sk-container-id-13 div.sk-container {/* jupyter's `normalize.less` sets `[hidden] { display: none; }` but bootstrap.min.css set `[hidden] { display: none !important; }` so we also need the `!important` here to be able to override the default hidden behavior on the sphinx rendered scikit-learn.org. See: https://github.com/scikit-learn/scikit-learn/issues/21755 */display: inline-block !important;position: relative;}#sk-container-id-13 div.sk-text-repr-fallback {display: none;}</style><div id=\"sk-container-id-13\" class=\"sk-top-container\"><div class=\"sk-text-repr-fallback\"><pre>MLPRegressor(early_stopping=True, hidden_layer_sizes=(100, 100, 20),\n",
       "             n_iter_no_change=15, verbose=True)</pre><b>In a Jupyter environment, please rerun this cell to show the HTML representation or trust the notebook. <br />On GitHub, the HTML representation is unable to render, please try loading this page with nbviewer.org.</b></div><div class=\"sk-container\" hidden><div class=\"sk-item\"><div class=\"sk-estimator sk-toggleable\"><input class=\"sk-toggleable__control sk-hidden--visually\" id=\"sk-estimator-id-13\" type=\"checkbox\" checked><label for=\"sk-estimator-id-13\" class=\"sk-toggleable__label sk-toggleable__label-arrow\">MLPRegressor</label><div class=\"sk-toggleable__content\"><pre>MLPRegressor(early_stopping=True, hidden_layer_sizes=(100, 100, 20),\n",
       "             n_iter_no_change=15, verbose=True)</pre></div></div></div></div></div>"
      ],
      "text/plain": [
       "MLPRegressor(early_stopping=True, hidden_layer_sizes=(100, 100, 20),\n",
       "             n_iter_no_change=15, verbose=True)"
      ]
     },
     "execution_count": 39,
     "metadata": {},
     "output_type": "execute_result"
    }
   ],
   "source": [
    "model = MLPRegressor(hidden_layer_sizes=(100,100,20), activation = 'relu', verbose=True, early_stopping=True, n_iter_no_change=15)\n",
    "model.fit(X_train_sel, y_train)"
   ]
  },
  {
   "cell_type": "code",
   "execution_count": 41,
   "id": "877be3f0-0a97-4320-ab11-a60fb3f21ec9",
   "metadata": {
    "tags": []
   },
   "outputs": [],
   "source": [
    "test_preds = model.predict(X_test_sel)\n",
    "train_preds = model.predict(X_train_sel)"
   ]
  },
  {
   "cell_type": "code",
   "execution_count": 57,
   "id": "de757f29-2ee8-4261-8b06-e5d8e18db0de",
   "metadata": {
    "tags": []
   },
   "outputs": [
    {
     "data": {
      "text/plain": [
       "17229"
      ]
     },
     "execution_count": 57,
     "metadata": {},
     "output_type": "execute_result"
    }
   ],
   "source": [
    "len(test_preds)"
   ]
  },
  {
   "cell_type": "code",
   "execution_count": 60,
   "id": "4666297b-ac9a-4f0f-a48b-4f382b171782",
   "metadata": {
    "tags": []
   },
   "outputs": [
    {
     "data": {
      "text/plain": [
       "PearsonRResult(statistic=array([0.6312824432096402], dtype=object), pvalue=0.0)"
      ]
     },
     "execution_count": 60,
     "metadata": {},
     "output_type": "execute_result"
    },
    {
     "data": {
      "image/png": "[encoded data removed]",
      "text/plain": [
       "<Figure size 640x480 with 1 Axes>"
      ]
     },
     "metadata": {},
     "output_type": "display_data"
    }
   ],
   "source": [
    "import matplotlib.pyplot as plt\n",
    "from scipy.stats import pearsonr\n",
    "plt.scatter(test_preds, y_test.values,marker='+', s=1)\n",
    "plt.plot(test_preds, test_preds, color='red')\n",
    "pearsonr(test_preds, y_test.values)"
   ]
  },
  {
   "cell_type": "code",
   "execution_count": 51,
   "id": "baea1939-ad97-47e2-9b3d-45bd117cbcfe",
   "metadata": {
    "tags": []
   },
   "outputs": [
    {
     "data": {
      "text/plain": [
       "PearsonRResult(statistic=array([0.6824048108610982], dtype=object), pvalue=0.0)"
      ]
     },
     "execution_count": 51,
     "metadata": {},
     "output_type": "execute_result"
    },
    {
     "data": {
      "image/png": "[encoded data removed]",
      "text/plain": [
       "<Figure size 640x480 with 1 Axes>"
      ]
     },
     "metadata": {},
     "output_type": "display_data"
    }
   ],
   "source": [
    "import matplotlib.pyplot as plt\n",
    "from scipy.stats import pearsonr\n",
    "plt.scatter(train_preds, y_train, marker = '+',s=1)\n",
    "plt.plot(train_preds, train_preds, color='red')\n",
    "pearsonr(train_preds, y_train)"
   ]
  },
  {
   "cell_type": "code",
   "execution_count": null,
   "id": "7539b59a-52de-4978-aefd-2421a9b97dc0",
   "metadata": {},
   "outputs": [],
   "source": []
  },
  {
   "cell_type": "code",
   "execution_count": null,
   "id": "08003da1-8cfa-412a-a734-07031a26473e",
   "metadata": {},
   "outputs": [],
   "source": []
  }
 ],
 "metadata": {
  "kernelspec": {
   "display_name": "Python (pytorch2)",
   "language": "python",
   "name": "pytorch2"
  },
  "language_info": {
   "codemirror_mode": {
    "name": "ipython",
    "version": 3
   },
   "file_extension": ".py",
   "mimetype": "text/x-python",
   "name": "python",
   "nbconvert_exporter": "python",
   "pygments_lexer": "ipython3",
   "version": "3.8.13"
  }
 },
 "nbformat": 4,
 "nbformat_minor": 5
}
